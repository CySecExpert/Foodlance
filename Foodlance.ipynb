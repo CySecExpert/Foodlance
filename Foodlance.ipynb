{
  "nbformat": 4,
  "nbformat_minor": 0,
  "metadata": {
    "colab": {
      "provenance": []
    },
    "kernelspec": {
      "name": "python3",
      "display_name": "Python 3"
    },
    "language_info": {
      "name": "python"
    }
  },
  "cells": [
    {
      "cell_type": "code",
      "metadata": {
        "colab": {
          "base_uri": "https://localhost:8080/"
        },
        "id": "-unP-OnmBgXr",
        "outputId": "926da62a-051f-4f8b-9562-d13fab2b2e0f"
      },
      "source": [
        "from google.colab import drive\n",
        "drive.mount('/content/gdrive')"
      ],
      "execution_count": null,
      "outputs": [
        {
          "output_type": "stream",
          "name": "stdout",
          "text": [
            "Mounted at /content/gdrive\n"
          ]
        }
      ]
    },
    {
      "cell_type": "code",
      "metadata": {
        "id": "mqqUlVC2Bt06"
      },
      "source": [
        "import numpy as np\n",
        "import pandas as pd\n",
        "import matplotlib.pyplot as plt\n",
        "import seaborn as sns"
      ],
      "execution_count": null,
      "outputs": []
    },
    {
      "cell_type": "code",
      "metadata": {
        "id": "PD-weDqXHUwl"
      },
      "source": [
        "df_recipes = pd.read_csv('/content/gdrive/MyDrive/Data/RAW_recipes.csv')\n",
        "df_user_interaction= pd.read_csv('/content/gdrive/MyDrive/Data/RAW_interactions.csv')"
      ],
      "execution_count": null,
      "outputs": []
    },
    {
      "cell_type": "code",
      "metadata": {
        "id": "lZTgLBcOHmk8",
        "colab": {
          "base_uri": "https://localhost:8080/",
          "height": 305
        },
        "outputId": "3f5e53da-06ff-4217-8da5-d040af7b9852"
      },
      "source": [
        "df_recipes.head(5)"
      ],
      "execution_count": null,
      "outputs": [
        {
          "output_type": "execute_result",
          "data": {
            "text/html": [
              "<div>\n",
              "<style scoped>\n",
              "    .dataframe tbody tr th:only-of-type {\n",
              "        vertical-align: middle;\n",
              "    }\n",
              "\n",
              "    .dataframe tbody tr th {\n",
              "        vertical-align: top;\n",
              "    }\n",
              "\n",
              "    .dataframe thead th {\n",
              "        text-align: right;\n",
              "    }\n",
              "</style>\n",
              "<table border=\"1\" class=\"dataframe\">\n",
              "  <thead>\n",
              "    <tr style=\"text-align: right;\">\n",
              "      <th></th>\n",
              "      <th>name</th>\n",
              "      <th>id</th>\n",
              "      <th>minutes</th>\n",
              "      <th>contributor_id</th>\n",
              "      <th>submitted</th>\n",
              "      <th>tags</th>\n",
              "      <th>nutrition</th>\n",
              "      <th>n_steps</th>\n",
              "      <th>steps</th>\n",
              "      <th>description</th>\n",
              "      <th>ingredients</th>\n",
              "      <th>n_ingredients</th>\n",
              "    </tr>\n",
              "  </thead>\n",
              "  <tbody>\n",
              "    <tr>\n",
              "      <th>0</th>\n",
              "      <td>arriba   baked winter squash mexican style</td>\n",
              "      <td>137739</td>\n",
              "      <td>55</td>\n",
              "      <td>47892</td>\n",
              "      <td>2005-09-16</td>\n",
              "      <td>['60-minutes-or-less', 'time-to-make', 'course...</td>\n",
              "      <td>[51.5, 0.0, 13.0, 0.0, 2.0, 0.0, 4.0]</td>\n",
              "      <td>11</td>\n",
              "      <td>['make a choice and proceed with recipe', 'dep...</td>\n",
              "      <td>autumn is my favorite time of year to cook! th...</td>\n",
              "      <td>['winter squash', 'mexican seasoning', 'mixed ...</td>\n",
              "      <td>7</td>\n",
              "    </tr>\n",
              "    <tr>\n",
              "      <th>1</th>\n",
              "      <td>a bit different  breakfast pizza</td>\n",
              "      <td>31490</td>\n",
              "      <td>30</td>\n",
              "      <td>26278</td>\n",
              "      <td>2002-06-17</td>\n",
              "      <td>['30-minutes-or-less', 'time-to-make', 'course...</td>\n",
              "      <td>[173.4, 18.0, 0.0, 17.0, 22.0, 35.0, 1.0]</td>\n",
              "      <td>9</td>\n",
              "      <td>['preheat oven to 425 degrees f', 'press dough...</td>\n",
              "      <td>this recipe calls for the crust to be prebaked...</td>\n",
              "      <td>['prepared pizza crust', 'sausage patty', 'egg...</td>\n",
              "      <td>6</td>\n",
              "    </tr>\n",
              "    <tr>\n",
              "      <th>2</th>\n",
              "      <td>all in the kitchen  chili</td>\n",
              "      <td>112140</td>\n",
              "      <td>130</td>\n",
              "      <td>196586</td>\n",
              "      <td>2005-02-25</td>\n",
              "      <td>['time-to-make', 'course', 'preparation', 'mai...</td>\n",
              "      <td>[269.8, 22.0, 32.0, 48.0, 39.0, 27.0, 5.0]</td>\n",
              "      <td>6</td>\n",
              "      <td>['brown ground beef in large pot', 'add choppe...</td>\n",
              "      <td>this modified version of 'mom's' chili was a h...</td>\n",
              "      <td>['ground beef', 'yellow onions', 'diced tomato...</td>\n",
              "      <td>13</td>\n",
              "    </tr>\n",
              "    <tr>\n",
              "      <th>3</th>\n",
              "      <td>alouette  potatoes</td>\n",
              "      <td>59389</td>\n",
              "      <td>45</td>\n",
              "      <td>68585</td>\n",
              "      <td>2003-04-14</td>\n",
              "      <td>['60-minutes-or-less', 'time-to-make', 'course...</td>\n",
              "      <td>[368.1, 17.0, 10.0, 2.0, 14.0, 8.0, 20.0]</td>\n",
              "      <td>11</td>\n",
              "      <td>['place potatoes in a large pot of lightly sal...</td>\n",
              "      <td>this is a super easy, great tasting, make ahea...</td>\n",
              "      <td>['spreadable cheese with garlic and herbs', 'n...</td>\n",
              "      <td>11</td>\n",
              "    </tr>\n",
              "    <tr>\n",
              "      <th>4</th>\n",
              "      <td>amish  tomato ketchup  for canning</td>\n",
              "      <td>44061</td>\n",
              "      <td>190</td>\n",
              "      <td>41706</td>\n",
              "      <td>2002-10-25</td>\n",
              "      <td>['weeknight', 'time-to-make', 'course', 'main-...</td>\n",
              "      <td>[352.9, 1.0, 337.0, 23.0, 3.0, 0.0, 28.0]</td>\n",
              "      <td>5</td>\n",
              "      <td>['mix all ingredients&amp; boil for 2 1 / 2 hours ...</td>\n",
              "      <td>my dh's amish mother raised him on this recipe...</td>\n",
              "      <td>['tomato juice', 'apple cider vinegar', 'sugar...</td>\n",
              "      <td>8</td>\n",
              "    </tr>\n",
              "  </tbody>\n",
              "</table>\n",
              "</div>"
            ],
            "text/plain": [
              "                                         name  ...  n_ingredients\n",
              "0  arriba   baked winter squash mexican style  ...              7\n",
              "1            a bit different  breakfast pizza  ...              6\n",
              "2                   all in the kitchen  chili  ...             13\n",
              "3                          alouette  potatoes  ...             11\n",
              "4          amish  tomato ketchup  for canning  ...              8\n",
              "\n",
              "[5 rows x 12 columns]"
            ]
          },
          "metadata": {},
          "execution_count": 5
        }
      ]
    },
    {
      "cell_type": "code",
      "metadata": {
        "colab": {
          "base_uri": "https://localhost:8080/",
          "height": 204
        },
        "id": "iC43yNf34NTB",
        "outputId": "3e89ac6d-5192-4b02-9e7c-0144ff5715d4"
      },
      "source": [
        "df_user_interaction.head(5)"
      ],
      "execution_count": null,
      "outputs": [
        {
          "output_type": "execute_result",
          "data": {
            "text/html": [
              "<div>\n",
              "<style scoped>\n",
              "    .dataframe tbody tr th:only-of-type {\n",
              "        vertical-align: middle;\n",
              "    }\n",
              "\n",
              "    .dataframe tbody tr th {\n",
              "        vertical-align: top;\n",
              "    }\n",
              "\n",
              "    .dataframe thead th {\n",
              "        text-align: right;\n",
              "    }\n",
              "</style>\n",
              "<table border=\"1\" class=\"dataframe\">\n",
              "  <thead>\n",
              "    <tr style=\"text-align: right;\">\n",
              "      <th></th>\n",
              "      <th>user_id</th>\n",
              "      <th>recipe_id</th>\n",
              "      <th>date</th>\n",
              "      <th>rating</th>\n",
              "      <th>review</th>\n",
              "    </tr>\n",
              "  </thead>\n",
              "  <tbody>\n",
              "    <tr>\n",
              "      <th>0</th>\n",
              "      <td>38094</td>\n",
              "      <td>40893</td>\n",
              "      <td>2003-02-17</td>\n",
              "      <td>4</td>\n",
              "      <td>Great with a salad. Cooked on top of stove for...</td>\n",
              "    </tr>\n",
              "    <tr>\n",
              "      <th>1</th>\n",
              "      <td>1293707</td>\n",
              "      <td>40893</td>\n",
              "      <td>2011-12-21</td>\n",
              "      <td>5</td>\n",
              "      <td>So simple, so delicious! Great for chilly fall...</td>\n",
              "    </tr>\n",
              "    <tr>\n",
              "      <th>2</th>\n",
              "      <td>8937</td>\n",
              "      <td>44394</td>\n",
              "      <td>2002-12-01</td>\n",
              "      <td>4</td>\n",
              "      <td>This worked very well and is EASY.  I used not...</td>\n",
              "    </tr>\n",
              "    <tr>\n",
              "      <th>3</th>\n",
              "      <td>126440</td>\n",
              "      <td>85009</td>\n",
              "      <td>2010-02-27</td>\n",
              "      <td>5</td>\n",
              "      <td>I made the Mexican topping and took it to bunk...</td>\n",
              "    </tr>\n",
              "    <tr>\n",
              "      <th>4</th>\n",
              "      <td>57222</td>\n",
              "      <td>85009</td>\n",
              "      <td>2011-10-01</td>\n",
              "      <td>5</td>\n",
              "      <td>Made the cheddar bacon topping, adding a sprin...</td>\n",
              "    </tr>\n",
              "  </tbody>\n",
              "</table>\n",
              "</div>"
            ],
            "text/plain": [
              "   user_id  ...                                             review\n",
              "0    38094  ...  Great with a salad. Cooked on top of stove for...\n",
              "1  1293707  ...  So simple, so delicious! Great for chilly fall...\n",
              "2     8937  ...  This worked very well and is EASY.  I used not...\n",
              "3   126440  ...  I made the Mexican topping and took it to bunk...\n",
              "4    57222  ...  Made the cheddar bacon topping, adding a sprin...\n",
              "\n",
              "[5 rows x 5 columns]"
            ]
          },
          "metadata": {},
          "execution_count": 6
        }
      ]
    },
    {
      "cell_type": "code",
      "metadata": {
        "colab": {
          "base_uri": "https://localhost:8080/"
        },
        "id": "WMx0xSLlIlfM",
        "outputId": "5583f447-461e-40e5-b0e5-c8fb060bf8cd"
      },
      "source": [
        "print(df_recipes.shape)\n",
        "print(df_user_interaction.shape)"
      ],
      "execution_count": null,
      "outputs": [
        {
          "output_type": "stream",
          "name": "stdout",
          "text": [
            "(231637, 12)\n",
            "(1132367, 5)\n"
          ]
        }
      ]
    },
    {
      "cell_type": "code",
      "metadata": {
        "id": "lQ6MMebKIp3p",
        "colab": {
          "base_uri": "https://localhost:8080/"
        },
        "outputId": "ac9b636f-38f7-4ef3-f8bb-294ae214995f"
      },
      "source": [
        "df_recipes.info()\n",
        "df_user_interaction.info()"
      ],
      "execution_count": null,
      "outputs": [
        {
          "output_type": "stream",
          "name": "stdout",
          "text": [
            "<class 'pandas.core.frame.DataFrame'>\n",
            "RangeIndex: 231637 entries, 0 to 231636\n",
            "Data columns (total 12 columns):\n",
            " #   Column          Non-Null Count   Dtype \n",
            "---  ------          --------------   ----- \n",
            " 0   name            231636 non-null  object\n",
            " 1   id              231637 non-null  int64 \n",
            " 2   minutes         231637 non-null  int64 \n",
            " 3   contributor_id  231637 non-null  int64 \n",
            " 4   submitted       231637 non-null  object\n",
            " 5   tags            231637 non-null  object\n",
            " 6   nutrition       231637 non-null  object\n",
            " 7   n_steps         231637 non-null  int64 \n",
            " 8   steps           231637 non-null  object\n",
            " 9   description     226658 non-null  object\n",
            " 10  ingredients     231637 non-null  object\n",
            " 11  n_ingredients   231637 non-null  int64 \n",
            "dtypes: int64(5), object(7)\n",
            "memory usage: 21.2+ MB\n",
            "<class 'pandas.core.frame.DataFrame'>\n",
            "RangeIndex: 1132367 entries, 0 to 1132366\n",
            "Data columns (total 5 columns):\n",
            " #   Column     Non-Null Count    Dtype \n",
            "---  ------     --------------    ----- \n",
            " 0   user_id    1132367 non-null  int64 \n",
            " 1   recipe_id  1132367 non-null  int64 \n",
            " 2   date       1132367 non-null  object\n",
            " 3   rating     1132367 non-null  int64 \n",
            " 4   review     1132198 non-null  object\n",
            "dtypes: int64(3), object(2)\n",
            "memory usage: 43.2+ MB\n"
          ]
        }
      ]
    },
    {
      "cell_type": "code",
      "metadata": {
        "id": "qDbaaBEIQFWg"
      },
      "source": [
        "#d.plot(kind='bar',xlim='name',ylim='minutes')\n"
      ],
      "execution_count": null,
      "outputs": []
    },
    {
      "cell_type": "code",
      "metadata": {
        "colab": {
          "base_uri": "https://localhost:8080/"
        },
        "id": "lD-S3p1j6JM-",
        "outputId": "8342cfbe-80ac-4396-ced4-64162acb6b5a"
      },
      "source": [
        "print(df_recipes.isnull().sum())\n",
        "print(\"------------------\")\n",
        "print(df_user_interaction.isnull().sum())"
      ],
      "execution_count": null,
      "outputs": [
        {
          "output_type": "stream",
          "name": "stdout",
          "text": [
            "name                 1\n",
            "id                   0\n",
            "minutes              0\n",
            "contributor_id       0\n",
            "submitted            0\n",
            "tags                 0\n",
            "nutrition            0\n",
            "n_steps              0\n",
            "steps                0\n",
            "description       4979\n",
            "ingredients          0\n",
            "n_ingredients        0\n",
            "dtype: int64\n",
            "------------------\n",
            "user_id        0\n",
            "recipe_id      0\n",
            "date           0\n",
            "rating         0\n",
            "review       169\n",
            "dtype: int64\n"
          ]
        }
      ]
    },
    {
      "cell_type": "code",
      "metadata": {
        "colab": {
          "base_uri": "https://localhost:8080/"
        },
        "id": "BRziKXCagMeK",
        "outputId": "0e71d74b-e3d8-4c73-ab24-3af0bc50d908"
      },
      "source": [
        "temp = df_user_interaction['recipe_id'].value_counts()[:10].to_dict()\n",
        "print(temp)\n"
      ],
      "execution_count": null,
      "outputs": [
        {
          "output_type": "stream",
          "name": "stdout",
          "text": [
            "{2886: 1613, 27208: 1601, 89204: 1579, 39087: 1448, 67256: 1322, 54257: 1305, 22782: 1234, 32204: 1220, 69173: 997, 68955: 904}\n"
          ]
        }
      ]
    },
    {
      "cell_type": "code",
      "metadata": {
        "colab": {
          "base_uri": "https://localhost:8080/",
          "height": 645
        },
        "id": "V7zMduqg1zVC",
        "outputId": "1c44e954-d406-483a-f030-d9d67f847751"
      },
      "source": [
        "mask = df_recipes['id'].isin(temp.keys())\n",
        "df_recipes[mask]"
      ],
      "execution_count": null,
      "outputs": [
        {
          "output_type": "execute_result",
          "data": {
            "text/html": [
              "<div>\n",
              "<style scoped>\n",
              "    .dataframe tbody tr th:only-of-type {\n",
              "        vertical-align: middle;\n",
              "    }\n",
              "\n",
              "    .dataframe tbody tr th {\n",
              "        vertical-align: top;\n",
              "    }\n",
              "\n",
              "    .dataframe thead th {\n",
              "        text-align: right;\n",
              "    }\n",
              "</style>\n",
              "<table border=\"1\" class=\"dataframe\">\n",
              "  <thead>\n",
              "    <tr style=\"text-align: right;\">\n",
              "      <th></th>\n",
              "      <th>name</th>\n",
              "      <th>id</th>\n",
              "      <th>minutes</th>\n",
              "      <th>contributor_id</th>\n",
              "      <th>submitted</th>\n",
              "      <th>tags</th>\n",
              "      <th>nutrition</th>\n",
              "      <th>n_steps</th>\n",
              "      <th>steps</th>\n",
              "      <th>description</th>\n",
              "      <th>ingredients</th>\n",
              "      <th>n_ingredients</th>\n",
              "    </tr>\n",
              "  </thead>\n",
              "  <tbody>\n",
              "    <tr>\n",
              "      <th>574</th>\n",
              "      <td>whatever floats your boat  brownies</td>\n",
              "      <td>32204</td>\n",
              "      <td>35</td>\n",
              "      <td>37305</td>\n",
              "      <td>2002-06-25</td>\n",
              "      <td>['60-minutes-or-less', 'time-to-make', 'course...</td>\n",
              "      <td>[390.7, 30.0, 161.0, 7.0, 12.0, 50.0, 17.0]</td>\n",
              "      <td>14</td>\n",
              "      <td>['preheat oven to 350f', 'grease an 8 inch squ...</td>\n",
              "      <td>these are absolutely the chewiest, moistest, f...</td>\n",
              "      <td>['butter', 'unsweetened cocoa', 'sugar', 'eggs...</td>\n",
              "      <td>14</td>\n",
              "    </tr>\n",
              "    <tr>\n",
              "      <th>22168</th>\n",
              "      <td>best banana bread</td>\n",
              "      <td>2886</td>\n",
              "      <td>65</td>\n",
              "      <td>1762</td>\n",
              "      <td>1999-09-26</td>\n",
              "      <td>['time-to-make', 'course', 'main-ingredient', ...</td>\n",
              "      <td>[272.8, 16.0, 97.0, 14.0, 7.0, 31.0, 14.0]</td>\n",
              "      <td>13</td>\n",
              "      <td>['remove odd pots and pans from oven', 'prehea...</td>\n",
              "      <td>you'll never need another banana bread recipe ...</td>\n",
              "      <td>['butter', 'granulated sugar', 'eggs', 'banana...</td>\n",
              "      <td>8</td>\n",
              "    </tr>\n",
              "    <tr>\n",
              "      <th>22388</th>\n",
              "      <td>best ever banana cake with cream cheese frosting</td>\n",
              "      <td>67256</td>\n",
              "      <td>75</td>\n",
              "      <td>82367</td>\n",
              "      <td>2003-07-24</td>\n",
              "      <td>['weeknight', 'time-to-make', 'course', 'main-...</td>\n",
              "      <td>[503.5, 31.0, 222.0, 15.0, 11.0, 61.0, 25.0]</td>\n",
              "      <td>18</td>\n",
              "      <td>['preheat oven to 275f', 'grease and flour a 9...</td>\n",
              "      <td>this is one of (if not) the best banana cake i...</td>\n",
              "      <td>['bananas', 'lemon juice', 'flour', 'baking so...</td>\n",
              "      <td>13</td>\n",
              "    </tr>\n",
              "    <tr>\n",
              "      <th>62431</th>\n",
              "      <td>creamy cajun chicken pasta</td>\n",
              "      <td>39087</td>\n",
              "      <td>25</td>\n",
              "      <td>30534</td>\n",
              "      <td>2002-09-02</td>\n",
              "      <td>['30-minutes-or-less', 'time-to-make', 'course...</td>\n",
              "      <td>[719.1, 63.0, 12.0, 34.0, 78.0, 120.0, 15.0]</td>\n",
              "      <td>4</td>\n",
              "      <td>['place chicken and cajun seasoning in a bowl ...</td>\n",
              "      <td>n'awlin's style of chicken with an updated alf...</td>\n",
              "      <td>['boneless skinless chicken breast halves', 'l...</td>\n",
              "      <td>12</td>\n",
              "    </tr>\n",
              "    <tr>\n",
              "      <th>66687</th>\n",
              "      <td>crock pot chicken with black beans   cream cheese</td>\n",
              "      <td>89204</td>\n",
              "      <td>243</td>\n",
              "      <td>137839</td>\n",
              "      <td>2004-04-16</td>\n",
              "      <td>['time-to-make', 'course', 'main-ingredient', ...</td>\n",
              "      <td>[679.2, 53.0, 39.0, 38.0, 91.0, 75.0, 16.0]</td>\n",
              "      <td>5</td>\n",
              "      <td>['take 4-5 frozen , yes , frozen , boneless ch...</td>\n",
              "      <td>i love this crock-pot chicken recipe for two r...</td>\n",
              "      <td>['boneless chicken breasts', 'black beans', 'c...</td>\n",
              "      <td>5</td>\n",
              "    </tr>\n",
              "    <tr>\n",
              "      <th>114444</th>\n",
              "      <td>japanese mum s chicken</td>\n",
              "      <td>68955</td>\n",
              "      <td>45</td>\n",
              "      <td>29196</td>\n",
              "      <td>2003-08-13</td>\n",
              "      <td>['60-minutes-or-less', 'time-to-make', 'course...</td>\n",
              "      <td>[313.1, 19.0, 54.0, 61.0, 62.0, 17.0, 5.0]</td>\n",
              "      <td>5</td>\n",
              "      <td>['place all the ingredients in a saucepan over...</td>\n",
              "      <td>we have a japanese girl, tomoko, living with u...</td>\n",
              "      <td>['chicken drumsticks', 'water', 'balsamic vine...</td>\n",
              "      <td>7</td>\n",
              "    </tr>\n",
              "    <tr>\n",
              "      <th>115303</th>\n",
              "      <td>jo mama s world famous spaghetti</td>\n",
              "      <td>22782</td>\n",
              "      <td>80</td>\n",
              "      <td>25455</td>\n",
              "      <td>2002-03-17</td>\n",
              "      <td>['weeknight', 'time-to-make', 'course', 'main-...</td>\n",
              "      <td>[555.9, 40.0, 45.0, 85.0, 59.0, 45.0, 16.0]</td>\n",
              "      <td>10</td>\n",
              "      <td>['in large , heavy stockpot , brown italian sa...</td>\n",
              "      <td>my kids will give up a steak dinner for this s...</td>\n",
              "      <td>['italian sausage', 'onion', 'garlic cloves', ...</td>\n",
              "      <td>16</td>\n",
              "    </tr>\n",
              "    <tr>\n",
              "      <th>118161</th>\n",
              "      <td>kittencal s italian melt in your mouth meatballs</td>\n",
              "      <td>69173</td>\n",
              "      <td>50</td>\n",
              "      <td>89831</td>\n",
              "      <td>2003-08-20</td>\n",
              "      <td>['60-minutes-or-less', 'time-to-make', 'course...</td>\n",
              "      <td>[1312.6, 129.0, 8.0, 108.0, 214.0, 174.0, 8.0]</td>\n",
              "      <td>5</td>\n",
              "      <td>['mix all ingredients together in a large bowl...</td>\n",
              "      <td>cooking the meatballs in simmering pasta sauce...</td>\n",
              "      <td>['ground beef', 'egg', 'parmesan cheese', 'bre...</td>\n",
              "      <td>10</td>\n",
              "    </tr>\n",
              "    <tr>\n",
              "      <th>213826</th>\n",
              "      <td>to die for crock pot roast</td>\n",
              "      <td>27208</td>\n",
              "      <td>545</td>\n",
              "      <td>28201</td>\n",
              "      <td>2002-05-03</td>\n",
              "      <td>['weeknight', 'time-to-make', 'course', 'main-...</td>\n",
              "      <td>[295.2, 14.0, 0.0, 15.0, 99.0, 19.0, 0.0]</td>\n",
              "      <td>7</td>\n",
              "      <td>['place beef roast in crock pot', 'mix the dri...</td>\n",
              "      <td>amazing flavor, and so simple! no salt needed ...</td>\n",
              "      <td>['beef roast', 'brown gravy mix', 'dried itali...</td>\n",
              "      <td>5</td>\n",
              "    </tr>\n",
              "    <tr>\n",
              "      <th>229262</th>\n",
              "      <td>yes  virginia there is a great meatloaf</td>\n",
              "      <td>54257</td>\n",
              "      <td>80</td>\n",
              "      <td>24670</td>\n",
              "      <td>2003-02-17</td>\n",
              "      <td>['time-to-make', 'course', 'main-ingredient', ...</td>\n",
              "      <td>[493.1, 43.0, 75.0, 52.0, 70.0, 55.0, 7.0]</td>\n",
              "      <td>15</td>\n",
              "      <td>['meatloaf: combine meat loaf ingredients and ...</td>\n",
              "      <td>absolutely delicious meatloaf and sauce! those...</td>\n",
              "      <td>['ground beef', 'bread', 'egg', 'vidalia onion...</td>\n",
              "      <td>10</td>\n",
              "    </tr>\n",
              "  </tbody>\n",
              "</table>\n",
              "</div>"
            ],
            "text/plain": [
              "                                                     name  ...  n_ingredients\n",
              "574                   whatever floats your boat  brownies  ...             14\n",
              "22168                                   best banana bread  ...              8\n",
              "22388    best ever banana cake with cream cheese frosting  ...             13\n",
              "62431                          creamy cajun chicken pasta  ...             12\n",
              "66687   crock pot chicken with black beans   cream cheese  ...              5\n",
              "114444                             japanese mum s chicken  ...              7\n",
              "115303                   jo mama s world famous spaghetti  ...             16\n",
              "118161   kittencal s italian melt in your mouth meatballs  ...             10\n",
              "213826                         to die for crock pot roast  ...              5\n",
              "229262            yes  virginia there is a great meatloaf  ...             10\n",
              "\n",
              "[10 rows x 12 columns]"
            ]
          },
          "metadata": {},
          "execution_count": 61
        }
      ]
    },
    {
      "cell_type": "code",
      "metadata": {
        "id": "Jxk5pWXeaRwb",
        "colab": {
          "base_uri": "https://localhost:8080/",
          "height": 295
        },
        "outputId": "de226596-b729-4b32-b247-b9af522bfbe4"
      },
      "source": [
        "x = list(df_recipes['name'][temp.keys()])\n",
        "y = list(temp.values())\n",
        "fig, ax = plt.subplots()\n",
        "ax.barh(x, y, align='center')\n",
        "ax.set(title = \"Top 10 popular recipes by reviews\",\n",
        "       xlabel = \"# of reviews\",\n",
        "       ylabel = \"Name of recipe\")\n",
        "plt.show()"
      ],
      "execution_count": null,
      "outputs": [
        {
          "output_type": "display_data",
          "data": {
            "image/png": "[encoded data removed]",
            "text/plain": [
              "<Figure size 432x288 with 1 Axes>"
            ]
          },
          "metadata": {
            "needs_background": "light"
          }
        }
      ]
    },
    {
      "cell_type": "code",
      "metadata": {
        "id": "rPNNvYLasEmm"
      },
      "source": [
        "rating_count = df_user_interaction['rating'].value_counts().to_dict()"
      ],
      "execution_count": null,
      "outputs": []
    },
    {
      "cell_type": "code",
      "metadata": {
        "colab": {
          "base_uri": "https://localhost:8080/",
          "height": 295
        },
        "id": "3aToqmj0-wgZ",
        "outputId": "e6a88488-6985-48fc-b0c0-3ef5eeed0572"
      },
      "source": [
        "x = list(rating_count.keys())\n",
        "y = list(rating_count.values())\n",
        "fig, ax = plt.subplots()\n",
        "ax.bar(x, y, align='center', width=0.4)\n",
        "ax.set(title = \"mode for ratings\",\n",
        "       xlabel = \"ratings (1-5)\",\n",
        "       ylabel = \"# of reviews\")\n",
        "plt.show()\n",
        "plt.show()"
      ],
      "execution_count": null,
      "outputs": [
        {
          "output_type": "display_data",
          "data": {
            "image/png": "[encoded data removed]",
            "text/plain": [
              "<Figure size 432x288 with 1 Axes>"
            ]
          },
          "metadata": {
            "needs_background": "light"
          }
        }
      ]
    },
    {
      "cell_type": "code",
      "metadata": {
        "colab": {
          "base_uri": "https://localhost:8080/",
          "height": 387
        },
        "id": "9Z9ohRcX_W00",
        "outputId": "f544953c-33a2-421a-d9a0-508f8efe4c40"
      },
      "source": [
        "sns.displot(df_recipes.n_ingredients,bins=41, kde=False)"
      ],
      "execution_count": null,
      "outputs": [
        {
          "output_type": "execute_result",
          "data": {
            "text/plain": [
              "<seaborn.axisgrid.FacetGrid at 0x7fb38d1d6d90>"
            ]
          },
          "metadata": {},
          "execution_count": 100
        },
        {
          "output_type": "display_data",
          "data": {
            "image/png": "[encoded data removed]",
            "text/plain": [
              "<Figure size 360x360 with 1 Axes>"
            ]
          },
          "metadata": {
            "needs_background": "light"
          }
        }
      ]
    },
    {
      "cell_type": "code",
      "metadata": {
        "colab": {
          "base_uri": "https://localhost:8080/"
        },
        "id": "W0T57kGKAgMR",
        "outputId": "140659fa-94b4-42c8-d286-3b40c87f6887"
      },
      "source": [
        "df_recipes.n_ingredients.value_counts().to_dict()"
      ],
      "execution_count": null,
      "outputs": [
        {
          "output_type": "execute_result",
          "data": {
            "text/plain": [
              "{1: 25,\n",
              " 2: 2127,\n",
              " 3: 6800,\n",
              " 4: 12650,\n",
              " 5: 18217,\n",
              " 6: 21840,\n",
              " 7: 24599,\n",
              " 8: 25532,\n",
              " 9: 24599,\n",
              " 10: 22430,\n",
              " 11: 19094,\n",
              " 12: 15165,\n",
              " 13: 11640,\n",
              " 14: 8284,\n",
              " 15: 6014,\n",
              " 16: 4145,\n",
              " 17: 2793,\n",
              " 18: 1913,\n",
              " 19: 1279,\n",
              " 20: 852,\n",
              " 21: 529,\n",
              " 22: 346,\n",
              " 23: 244,\n",
              " 24: 178,\n",
              " 25: 107,\n",
              " 26: 68,\n",
              " 27: 55,\n",
              " 28: 33,\n",
              " 29: 22,\n",
              " 30: 20,\n",
              " 31: 13,\n",
              " 32: 5,\n",
              " 33: 4,\n",
              " 34: 3,\n",
              " 35: 4,\n",
              " 36: 1,\n",
              " 37: 2,\n",
              " 38: 1,\n",
              " 39: 1,\n",
              " 40: 2,\n",
              " 43: 1}"
            ]
          },
          "metadata": {},
          "execution_count": 101
        }
      ]
    },
    {
      "cell_type": "code",
      "metadata": {
        "id": "6I6-ZHFGDcjV"
      },
      "source": [
        "temp_df = df_user_interaction.groupby(['recipe_id'])['rating'].agg(lambda x: x.unique().mean())"
      ],
      "execution_count": null,
      "outputs": []
    },
    {
      "cell_type": "code",
      "metadata": {
        "colab": {
          "base_uri": "https://localhost:8080/",
          "height": 418
        },
        "id": "Rq7959xLN6DF",
        "outputId": "996b6b02-d321-468f-d806-74c9e1f24a87"
      },
      "source": [
        "df_av_rating = pd.DataFrame(temp_df.to_dict().items(), columns=['id', 'av_rating'])\n",
        "df_av_rating.sort_values(['id'])"
      ],
      "execution_count": null,
      "outputs": [
        {
          "output_type": "execute_result",
          "data": {
            "text/html": [
              "<div>\n",
              "<style scoped>\n",
              "    .dataframe tbody tr th:only-of-type {\n",
              "        vertical-align: middle;\n",
              "    }\n",
              "\n",
              "    .dataframe tbody tr th {\n",
              "        vertical-align: top;\n",
              "    }\n",
              "\n",
              "    .dataframe thead th {\n",
              "        text-align: right;\n",
              "    }\n",
              "</style>\n",
              "<table border=\"1\" class=\"dataframe\">\n",
              "  <thead>\n",
              "    <tr style=\"text-align: right;\">\n",
              "      <th></th>\n",
              "      <th>id</th>\n",
              "      <th>av_rating</th>\n",
              "    </tr>\n",
              "  </thead>\n",
              "  <tbody>\n",
              "    <tr>\n",
              "      <th>0</th>\n",
              "      <td>38</td>\n",
              "      <td>4.500000</td>\n",
              "    </tr>\n",
              "    <tr>\n",
              "      <th>1</th>\n",
              "      <td>39</td>\n",
              "      <td>3.000000</td>\n",
              "    </tr>\n",
              "    <tr>\n",
              "      <th>2</th>\n",
              "      <td>40</td>\n",
              "      <td>3.333333</td>\n",
              "    </tr>\n",
              "    <tr>\n",
              "      <th>3</th>\n",
              "      <td>41</td>\n",
              "      <td>4.500000</td>\n",
              "    </tr>\n",
              "    <tr>\n",
              "      <th>4</th>\n",
              "      <td>43</td>\n",
              "      <td>1.000000</td>\n",
              "    </tr>\n",
              "    <tr>\n",
              "      <th>...</th>\n",
              "      <td>...</td>\n",
              "      <td>...</td>\n",
              "    </tr>\n",
              "    <tr>\n",
              "      <th>231632</th>\n",
              "      <td>537459</td>\n",
              "      <td>5.000000</td>\n",
              "    </tr>\n",
              "    <tr>\n",
              "      <th>231633</th>\n",
              "      <td>537485</td>\n",
              "      <td>5.000000</td>\n",
              "    </tr>\n",
              "    <tr>\n",
              "      <th>231634</th>\n",
              "      <td>537543</td>\n",
              "      <td>0.000000</td>\n",
              "    </tr>\n",
              "    <tr>\n",
              "      <th>231635</th>\n",
              "      <td>537671</td>\n",
              "      <td>0.000000</td>\n",
              "    </tr>\n",
              "    <tr>\n",
              "      <th>231636</th>\n",
              "      <td>537716</td>\n",
              "      <td>5.000000</td>\n",
              "    </tr>\n",
              "  </tbody>\n",
              "</table>\n",
              "<p>231637 rows × 2 columns</p>\n",
              "</div>"
            ],
            "text/plain": [
              "            id  av_rating\n",
              "0           38   4.500000\n",
              "1           39   3.000000\n",
              "2           40   3.333333\n",
              "3           41   4.500000\n",
              "4           43   1.000000\n",
              "...        ...        ...\n",
              "231632  537459   5.000000\n",
              "231633  537485   5.000000\n",
              "231634  537543   0.000000\n",
              "231635  537671   0.000000\n",
              "231636  537716   5.000000\n",
              "\n",
              "[231637 rows x 2 columns]"
            ]
          },
          "metadata": {},
          "execution_count": 141
        }
      ]
    },
    {
      "cell_type": "code",
      "metadata": {
        "colab": {
          "base_uri": "https://localhost:8080/",
          "height": 688
        },
        "id": "WCsLyAG7PHd7",
        "outputId": "15073b33-0536-4a5f-dd1b-bf0bcd8378bf"
      },
      "source": [
        "df_recipes.sort_values('id')"
      ],
      "execution_count": null,
      "outputs": [
        {
          "output_type": "execute_result",
          "data": {
            "text/html": [
              "<div>\n",
              "<style scoped>\n",
              "    .dataframe tbody tr th:only-of-type {\n",
              "        vertical-align: middle;\n",
              "    }\n",
              "\n",
              "    .dataframe tbody tr th {\n",
              "        vertical-align: top;\n",
              "    }\n",
              "\n",
              "    .dataframe thead th {\n",
              "        text-align: right;\n",
              "    }\n",
              "</style>\n",
              "<table border=\"1\" class=\"dataframe\">\n",
              "  <thead>\n",
              "    <tr style=\"text-align: right;\">\n",
              "      <th></th>\n",
              "      <th>name</th>\n",
              "      <th>id</th>\n",
              "      <th>minutes</th>\n",
              "      <th>contributor_id</th>\n",
              "      <th>submitted</th>\n",
              "      <th>tags</th>\n",
              "      <th>nutrition</th>\n",
              "      <th>n_steps</th>\n",
              "      <th>steps</th>\n",
              "      <th>description</th>\n",
              "      <th>ingredients</th>\n",
              "      <th>n_ingredients</th>\n",
              "    </tr>\n",
              "  </thead>\n",
              "  <tbody>\n",
              "    <tr>\n",
              "      <th>126987</th>\n",
              "      <td>low fat berry blue frozen dessert</td>\n",
              "      <td>38</td>\n",
              "      <td>1485</td>\n",
              "      <td>1533</td>\n",
              "      <td>1999-08-09</td>\n",
              "      <td>['weeknight', 'time-to-make', 'course', 'prepa...</td>\n",
              "      <td>[170.9, 3.0, 120.0, 1.0, 6.0, 6.0, 12.0]</td>\n",
              "      <td>13</td>\n",
              "      <td>['toss 2 cups berries with sugar', 'let stand ...</td>\n",
              "      <td>this is yummy and low-fat, it always turns out...</td>\n",
              "      <td>['blueberries', 'granulated sugar', 'vanilla y...</td>\n",
              "      <td>4</td>\n",
              "    </tr>\n",
              "    <tr>\n",
              "      <th>23695</th>\n",
              "      <td>biryani</td>\n",
              "      <td>39</td>\n",
              "      <td>265</td>\n",
              "      <td>1567</td>\n",
              "      <td>1999-08-29</td>\n",
              "      <td>['weeknight', 'time-to-make', 'course', 'main-...</td>\n",
              "      <td>[1110.7, 90.0, 81.0, 15.0, 126.0, 82.0, 28.0]</td>\n",
              "      <td>17</td>\n",
              "      <td>['soak saffron in warm milk for 5 minutes and ...</td>\n",
              "      <td>delhi, india</td>\n",
              "      <td>['saffron', 'milk', 'hot green chili peppers',...</td>\n",
              "      <td>26</td>\n",
              "    </tr>\n",
              "    <tr>\n",
              "      <th>22701</th>\n",
              "      <td>best lemonade</td>\n",
              "      <td>40</td>\n",
              "      <td>35</td>\n",
              "      <td>1566</td>\n",
              "      <td>1999-09-05</td>\n",
              "      <td>['60-minutes-or-less', 'time-to-make', 'course...</td>\n",
              "      <td>[311.1, 0.0, 308.0, 0.0, 0.0, 0.0, 27.0]</td>\n",
              "      <td>8</td>\n",
              "      <td>['into a 1 quart jar with tight fitting lid , ...</td>\n",
              "      <td>this is from one of my  first good house keepi...</td>\n",
              "      <td>['sugar', 'lemons, rind of', 'fresh water', 'f...</td>\n",
              "      <td>6</td>\n",
              "    </tr>\n",
              "    <tr>\n",
              "      <th>36412</th>\n",
              "      <td>carina s tofu vegetable kebabs</td>\n",
              "      <td>41</td>\n",
              "      <td>1460</td>\n",
              "      <td>1586</td>\n",
              "      <td>1999-09-03</td>\n",
              "      <td>['weeknight', 'time-to-make', 'course', 'main-...</td>\n",
              "      <td>[536.1, 36.0, 128.0, 64.0, 58.0, 19.0, 21.0]</td>\n",
              "      <td>18</td>\n",
              "      <td>['drain the tofu , carefully squeezing out exc...</td>\n",
              "      <td>this dish is best prepared a day in advance to...</td>\n",
              "      <td>['extra firm tofu', 'eggplant', 'zucchini', 'r...</td>\n",
              "      <td>15</td>\n",
              "    </tr>\n",
              "    <tr>\n",
              "      <th>22217</th>\n",
              "      <td>best blackbottom pie</td>\n",
              "      <td>43</td>\n",
              "      <td>140</td>\n",
              "      <td>34879</td>\n",
              "      <td>1999-08-21</td>\n",
              "      <td>['weeknight', 'time-to-make', 'course', 'cuisi...</td>\n",
              "      <td>[437.9, 29.0, 170.0, 11.0, 13.0, 54.0, 19.0]</td>\n",
              "      <td>35</td>\n",
              "      <td>['graham cracker crust: in small bowl , combin...</td>\n",
              "      <td>sweet, chocolatey,  yummy</td>\n",
              "      <td>['graham cracker crumbs', 'sugar', 'butter', '...</td>\n",
              "      <td>15</td>\n",
              "    </tr>\n",
              "    <tr>\n",
              "      <th>...</th>\n",
              "      <td>...</td>\n",
              "      <td>...</td>\n",
              "      <td>...</td>\n",
              "      <td>...</td>\n",
              "      <td>...</td>\n",
              "      <td>...</td>\n",
              "      <td>...</td>\n",
              "      <td>...</td>\n",
              "      <td>...</td>\n",
              "      <td>...</td>\n",
              "      <td>...</td>\n",
              "      <td>...</td>\n",
              "    </tr>\n",
              "    <tr>\n",
              "      <th>13104</th>\n",
              "      <td>bailey s chocotini</td>\n",
              "      <td>537459</td>\n",
              "      <td>10</td>\n",
              "      <td>400708</td>\n",
              "      <td>2018-11-10</td>\n",
              "      <td>['15-minutes-or-less', 'time-to-make', 'course...</td>\n",
              "      <td>[220.7, 15.0, 49.0, 2.0, 3.0, 30.0, 4.0]</td>\n",
              "      <td>5</td>\n",
              "      <td>['to layer: add chocolate liqueur to glass', '...</td>\n",
              "      <td>a recipe that recipe complements the cocoa in ...</td>\n",
              "      <td>['baileys irish cream', 'chocolate liqueur', '...</td>\n",
              "      <td>3</td>\n",
              "    </tr>\n",
              "    <tr>\n",
              "      <th>1547</th>\n",
              "      <td>5 ingredient salted caramel crumble bars</td>\n",
              "      <td>537485</td>\n",
              "      <td>45</td>\n",
              "      <td>2000378667</td>\n",
              "      <td>2018-11-12</td>\n",
              "      <td>['60-minutes-or-less', 'time-to-make', 'course...</td>\n",
              "      <td>[52.8, 3.0, 0.0, 4.0, 1.0, 1.0, 2.0]</td>\n",
              "      <td>21</td>\n",
              "      <td>['1', 'heat oven to 350f spray 8-inch square p...</td>\n",
              "      <td>delicious</td>\n",
              "      <td>['pillsbury sugar cookie dough', 'caramel topp...</td>\n",
              "      <td>5</td>\n",
              "    </tr>\n",
              "    <tr>\n",
              "      <th>137661</th>\n",
              "      <td>moist gingerbread cake</td>\n",
              "      <td>537543</td>\n",
              "      <td>55</td>\n",
              "      <td>2001201872</td>\n",
              "      <td>2018-11-16</td>\n",
              "      <td>['60-minutes-or-less', 'time-to-make', 'course...</td>\n",
              "      <td>[1617.0, 104.0, 213.0, 8.0, 40.0, 203.0, 80.0]</td>\n",
              "      <td>8</td>\n",
              "      <td>['preheat the oven to 350&amp;deg', 'f grease a lo...</td>\n",
              "      <td>a slightly sticky loaf cake flavoured with gin...</td>\n",
              "      <td>['unsalted butter', 'applesauce', 'egg', 'unsu...</td>\n",
              "      <td>10</td>\n",
              "    </tr>\n",
              "    <tr>\n",
              "      <th>145532</th>\n",
              "      <td>nutcracker peppermint red velvet cake pops</td>\n",
              "      <td>537671</td>\n",
              "      <td>135</td>\n",
              "      <td>2002198506</td>\n",
              "      <td>2018-11-28</td>\n",
              "      <td>['time-to-make', 'course', 'preparation', 'occ...</td>\n",
              "      <td>[207.9, 12.0, 93.0, 10.0, 6.0, 8.0, 10.0]</td>\n",
              "      <td>54</td>\n",
              "      <td>['before you begin , you will need to gather t...</td>\n",
              "      <td>rich red velvet cake combines with cool pepper...</td>\n",
              "      <td>[\"devil's food cake mix\", 'eggs', 'buttermilk'...</td>\n",
              "      <td>12</td>\n",
              "    </tr>\n",
              "    <tr>\n",
              "      <th>136065</th>\n",
              "      <td>mini buffalo chicken cheesesteaks</td>\n",
              "      <td>537716</td>\n",
              "      <td>40</td>\n",
              "      <td>2001975627</td>\n",
              "      <td>2018-12-04</td>\n",
              "      <td>['60-minutes-or-less', 'time-to-make', 'course...</td>\n",
              "      <td>[407.9, 34.0, 21.0, 49.0, 28.0, 64.0, 12.0]</td>\n",
              "      <td>12</td>\n",
              "      <td>['heat 1 tablespoon of olive oil in a skillet ...</td>\n",
              "      <td>these party-style chicken cheesesteaks are fla...</td>\n",
              "      <td>['olive oil', 'green bell pepper', 'yellow oni...</td>\n",
              "      <td>13</td>\n",
              "    </tr>\n",
              "  </tbody>\n",
              "</table>\n",
              "<p>231637 rows × 12 columns</p>\n",
              "</div>"
            ],
            "text/plain": [
              "                                              name  ...  n_ingredients\n",
              "126987           low fat berry blue frozen dessert  ...              4\n",
              "23695                                      biryani  ...             26\n",
              "22701                                best lemonade  ...              6\n",
              "36412               carina s tofu vegetable kebabs  ...             15\n",
              "22217                         best blackbottom pie  ...             15\n",
              "...                                            ...  ...            ...\n",
              "13104                           bailey s chocotini  ...              3\n",
              "1547      5 ingredient salted caramel crumble bars  ...              5\n",
              "137661                      moist gingerbread cake  ...             10\n",
              "145532  nutcracker peppermint red velvet cake pops  ...             12\n",
              "136065           mini buffalo chicken cheesesteaks  ...             13\n",
              "\n",
              "[231637 rows x 12 columns]"
            ]
          },
          "metadata": {},
          "execution_count": 142
        }
      ]
    },
    {
      "cell_type": "code",
      "metadata": {
        "colab": {
          "base_uri": "https://localhost:8080/"
        },
        "id": "cyoTiU61ZJFx",
        "outputId": "4c9df867-a962-4299-be89-3823e8a8995c"
      },
      "source": [
        "df_av_rating.info()"
      ],
      "execution_count": null,
      "outputs": [
        {
          "output_type": "stream",
          "name": "stdout",
          "text": [
            "<class 'pandas.core.frame.DataFrame'>\n",
            "RangeIndex: 231637 entries, 0 to 231636\n",
            "Data columns (total 2 columns):\n",
            " #   Column     Non-Null Count   Dtype  \n",
            "---  ------     --------------   -----  \n",
            " 0   id         231637 non-null  int64  \n",
            " 1   av_rating  231637 non-null  float64\n",
            "dtypes: float64(1), int64(1)\n",
            "memory usage: 3.5 MB\n"
          ]
        }
      ]
    },
    {
      "cell_type": "code",
      "metadata": {
        "colab": {
          "base_uri": "https://localhost:8080/",
          "height": 323
        },
        "id": "16XQGmdQS2JA",
        "outputId": "73005498-dac3-45fc-bcdd-3db578b968f3"
      },
      "source": [
        "frames= [df_av_rating, df_recipes]\n",
        "df_recipes_updated = pd.merge(df_recipes, df_av_rating,\n",
        "                              on = 'id')\n",
        "print(df_recipes_updated.shape)\n",
        "df_recipes_updated.head()"
      ],
      "execution_count": null,
      "outputs": [
        {
          "output_type": "stream",
          "name": "stdout",
          "text": [
            "(231637, 12)\n"
          ]
        },
        {
          "output_type": "execute_result",
          "data": {
            "text/html": [
              "<div>\n",
              "<style scoped>\n",
              "    .dataframe tbody tr th:only-of-type {\n",
              "        vertical-align: middle;\n",
              "    }\n",
              "\n",
              "    .dataframe tbody tr th {\n",
              "        vertical-align: top;\n",
              "    }\n",
              "\n",
              "    .dataframe thead th {\n",
              "        text-align: right;\n",
              "    }\n",
              "</style>\n",
              "<table border=\"1\" class=\"dataframe\">\n",
              "  <thead>\n",
              "    <tr style=\"text-align: right;\">\n",
              "      <th></th>\n",
              "      <th>name</th>\n",
              "      <th>id</th>\n",
              "      <th>minutes</th>\n",
              "      <th>contributor_id</th>\n",
              "      <th>submitted</th>\n",
              "      <th>tags</th>\n",
              "      <th>nutrition</th>\n",
              "      <th>n_steps</th>\n",
              "      <th>steps</th>\n",
              "      <th>description</th>\n",
              "      <th>ingredients</th>\n",
              "      <th>n_ingredients</th>\n",
              "    </tr>\n",
              "  </thead>\n",
              "  <tbody>\n",
              "    <tr>\n",
              "      <th>0</th>\n",
              "      <td>arriba   baked winter squash mexican style</td>\n",
              "      <td>137739</td>\n",
              "      <td>55</td>\n",
              "      <td>47892</td>\n",
              "      <td>2005-09-16</td>\n",
              "      <td>['60-minutes-or-less', 'time-to-make', 'course...</td>\n",
              "      <td>[51.5, 0.0, 13.0, 0.0, 2.0, 0.0, 4.0]</td>\n",
              "      <td>11</td>\n",
              "      <td>['make a choice and proceed with recipe', 'dep...</td>\n",
              "      <td>autumn is my favorite time of year to cook! th...</td>\n",
              "      <td>['winter squash', 'mexican seasoning', 'mixed ...</td>\n",
              "      <td>7</td>\n",
              "    </tr>\n",
              "    <tr>\n",
              "      <th>1</th>\n",
              "      <td>a bit different  breakfast pizza</td>\n",
              "      <td>31490</td>\n",
              "      <td>30</td>\n",
              "      <td>26278</td>\n",
              "      <td>2002-06-17</td>\n",
              "      <td>['30-minutes-or-less', 'time-to-make', 'course...</td>\n",
              "      <td>[173.4, 18.0, 0.0, 17.0, 22.0, 35.0, 1.0]</td>\n",
              "      <td>9</td>\n",
              "      <td>['preheat oven to 425 degrees f', 'press dough...</td>\n",
              "      <td>this recipe calls for the crust to be prebaked...</td>\n",
              "      <td>['prepared pizza crust', 'sausage patty', 'egg...</td>\n",
              "      <td>6</td>\n",
              "    </tr>\n",
              "    <tr>\n",
              "      <th>2</th>\n",
              "      <td>all in the kitchen  chili</td>\n",
              "      <td>112140</td>\n",
              "      <td>130</td>\n",
              "      <td>196586</td>\n",
              "      <td>2005-02-25</td>\n",
              "      <td>['time-to-make', 'course', 'preparation', 'mai...</td>\n",
              "      <td>[269.8, 22.0, 32.0, 48.0, 39.0, 27.0, 5.0]</td>\n",
              "      <td>6</td>\n",
              "      <td>['brown ground beef in large pot', 'add choppe...</td>\n",
              "      <td>this modified version of 'mom's' chili was a h...</td>\n",
              "      <td>['ground beef', 'yellow onions', 'diced tomato...</td>\n",
              "      <td>13</td>\n",
              "    </tr>\n",
              "    <tr>\n",
              "      <th>3</th>\n",
              "      <td>alouette  potatoes</td>\n",
              "      <td>59389</td>\n",
              "      <td>45</td>\n",
              "      <td>68585</td>\n",
              "      <td>2003-04-14</td>\n",
              "      <td>['60-minutes-or-less', 'time-to-make', 'course...</td>\n",
              "      <td>[368.1, 17.0, 10.0, 2.0, 14.0, 8.0, 20.0]</td>\n",
              "      <td>11</td>\n",
              "      <td>['place potatoes in a large pot of lightly sal...</td>\n",
              "      <td>this is a super easy, great tasting, make ahea...</td>\n",
              "      <td>['spreadable cheese with garlic and herbs', 'n...</td>\n",
              "      <td>11</td>\n",
              "    </tr>\n",
              "    <tr>\n",
              "      <th>4</th>\n",
              "      <td>amish  tomato ketchup  for canning</td>\n",
              "      <td>44061</td>\n",
              "      <td>190</td>\n",
              "      <td>41706</td>\n",
              "      <td>2002-10-25</td>\n",
              "      <td>['weeknight', 'time-to-make', 'course', 'main-...</td>\n",
              "      <td>[352.9, 1.0, 337.0, 23.0, 3.0, 0.0, 28.0]</td>\n",
              "      <td>5</td>\n",
              "      <td>['mix all ingredients&amp; boil for 2 1 / 2 hours ...</td>\n",
              "      <td>my dh's amish mother raised him on this recipe...</td>\n",
              "      <td>['tomato juice', 'apple cider vinegar', 'sugar...</td>\n",
              "      <td>8</td>\n",
              "    </tr>\n",
              "  </tbody>\n",
              "</table>\n",
              "</div>"
            ],
            "text/plain": [
              "                                         name  ...  n_ingredients\n",
              "0  arriba   baked winter squash mexican style  ...              7\n",
              "1            a bit different  breakfast pizza  ...              6\n",
              "2                   all in the kitchen  chili  ...             13\n",
              "3                          alouette  potatoes  ...             11\n",
              "4          amish  tomato ketchup  for canning  ...              8\n",
              "\n",
              "[5 rows x 12 columns]"
            ]
          },
          "metadata": {},
          "execution_count": 158
        }
      ]
    },
    {
      "cell_type": "code",
      "metadata": {
        "id": "Qzq2tfLvW7GC"
      },
      "source": [],
      "execution_count": null,
      "outputs": []
    }
  ]
}